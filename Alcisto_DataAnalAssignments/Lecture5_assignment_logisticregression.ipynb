{
 "cells": [
  {
   "cell_type": "code",
   "execution_count": 46,
   "id": "725d87f6-46b1-4df3-b19b-c28140b0d7dd",
   "metadata": {},
   "outputs": [
    {
     "name": "stdout",
     "output_type": "stream",
     "text": [
      "        name     role         type demographic  \\\n",
      "0        age  Feature      Integer         Age   \n",
      "1        sex  Feature  Categorical         Sex   \n",
      "2         cp  Feature  Categorical        None   \n",
      "3   trestbps  Feature      Integer        None   \n",
      "4       chol  Feature      Integer        None   \n",
      "5        fbs  Feature  Categorical        None   \n",
      "6    restecg  Feature  Categorical        None   \n",
      "7    thalach  Feature      Integer        None   \n",
      "8      exang  Feature  Categorical        None   \n",
      "9    oldpeak  Feature      Integer        None   \n",
      "10     slope  Feature  Categorical        None   \n",
      "11        ca  Feature      Integer        None   \n",
      "12      thal  Feature  Categorical        None   \n",
      "13       num   Target      Integer        None   \n",
      "\n",
      "                                          description  units missing_values  \n",
      "0                                                None  years             no  \n",
      "1                                                None   None             no  \n",
      "2                                                None   None             no  \n",
      "3   resting blood pressure (on admission to the ho...  mm Hg             no  \n",
      "4                                   serum cholestoral  mg/dl             no  \n",
      "5                     fasting blood sugar > 120 mg/dl   None             no  \n",
      "6                                                None   None             no  \n",
      "7                         maximum heart rate achieved   None             no  \n",
      "8                             exercise induced angina   None             no  \n",
      "9   ST depression induced by exercise relative to ...   None             no  \n",
      "10                                               None   None             no  \n",
      "11  number of major vessels (0-3) colored by flour...   None            yes  \n",
      "12                                               None   None            yes  \n",
      "13                         diagnosis of heart disease   None             no  \n"
     ]
    }
   ],
   "source": [
    "import numpy as np\n",
    "import pandas as pd\n",
    "import seaborn as sns\n",
    "import matplotlib.pyplot as plt\n",
    "from ucimlrepo import fetch_ucirepo \n",
    "\n",
    "heart_disease = fetch_ucirepo(id=45) \n",
    "  \n",
    "X = heart_disease.data.features \n",
    "Y = heart_disease.data.targets \n",
    "\n",
    "print(heart_disease.variables) "
   ]
  },
  {
   "cell_type": "code",
   "execution_count": null,
   "id": "0402eb58-28c7-46d8-aea4-8454ffb0e891",
   "metadata": {},
   "outputs": [],
   "source": [
    "df = pd.merge(X, Y, left_index=True, right_index=True)\n",
    "df.head()\n",
    "df.info()\n",
    "(df.isna().sum()/len(df))*100"
   ]
  },
  {
   "cell_type": "code",
   "execution_count": null,
   "id": "f23fe6c4-6396-45cf-a1e1-4aa8d3ee2775",
   "metadata": {},
   "outputs": [],
   "source": [
    "sns.boxplot(x='num',y='age',data=df)"
   ]
  },
  {
   "cell_type": "markdown",
   "id": "c3eeb765-17e0-4dd7-bbdc-d0a9805c0997",
   "metadata": {},
   "source": [
    "Generally when people get older, the risk of haert disease gets higher and higher compared to younger individuals. Older adults might have a higher percentage of both heart disease patients and healthy individuals. An increase in the median age would indicate that older age groups tend to have higher rates of heart disease, possibly due to the gradual buildup of risk factors over time."
   ]
  },
  {
   "cell_type": "code",
   "execution_count": null,
   "id": "c91f3204-e9ee-4020-98eb-b6a10f54dc36",
   "metadata": {},
   "outputs": [],
   "source": [
    "sns.boxplot(x='num',y='thal',data=df)"
   ]
  },
  {
   "cell_type": "code",
   "execution_count": null,
   "id": "53a15eca-dd8a-4287-8f5b-763c8211df87",
   "metadata": {},
   "outputs": [],
   "source": [
    "sns.scatterplot(x='age', y='ca', data=df, hue='num')\n"
   ]
  },
  {
   "cell_type": "code",
   "execution_count": null,
   "id": "7e25c356-0844-4e17-98db-62e9bb2eebfb",
   "metadata": {},
   "outputs": [],
   "source": [
    "import pandas as pd\n",
    "import matplotlib.pyplot as plt\n",
    "\n",
    "dataframe = pd.merge(X, Y, left_index=True, right_index=True)\n",
    "target_counts = dataframe['num'].value_counts()\n",
    "\n",
    "plt.figure(figsize=(8, 6))\n",
    "target_counts.plot(kind='bar', color='skyblue')\n",
    "plt.title('Total Counts per Target Value')\n",
    "plt.xlabel('Target Value')\n",
    "plt.ylabel('Count')\n",
    "plt.xticks(rotation=0)\n",
    "plt.show()\n"
   ]
  },
  {
   "cell_type": "code",
   "execution_count": null,
   "id": "a1386164-160b-4d34-be1a-a2d077965540",
   "metadata": {},
   "outputs": [],
   "source": [
    "columns = ['age', 'trestbps', 'chol', 'thalach', 'oldpeak', 'num']\n",
    "\n",
    "df = pd.merge(X, Y, left_index=True, right_index=True)\n",
    "selected = df[columns]\n",
    "\n",
    "sns.pairplot(selected, hue='num', diag_kind='kde', palette='viridis')\n",
    "plt.show()\n",
    "\n"
   ]
  },
  {
   "cell_type": "code",
   "execution_count": null,
   "id": "db804c29-349c-41c8-ad2d-b038d0b41f14",
   "metadata": {},
   "outputs": [],
   "source": [
    "import seaborn as sns\n",
    "import matplotlib.pyplot as plt\n",
    "\n",
    "dataframe = pd.merge(X, Y, left_index=True, right_index=True)\n",
    "\n",
    "# Calculate the correlation matrix\n",
    "correlation_matrix = dataframe.corr()\n",
    "\n",
    "plt.figure(figsize=(10, 8))\n",
    "sns.heatmap(correlation_matrix, annot=True, cmap='coolwarm', fmt=\".2f\")\n",
    "plt.show()\n"
   ]
  },
  {
   "cell_type": "code",
   "execution_count": null,
   "id": "851703dc-a742-4cbd-8bee-138dbf74882d",
   "metadata": {},
   "outputs": [],
   "source": [
    "X = heart_disease.data.features\n",
    "Y = heart_disease.data.targets\n",
    "print(\"Shape of X:\", X.shape)  \n",
    "print(\"Shape of Y:\", Y.shape) \n"
   ]
  },
  {
   "cell_type": "code",
   "execution_count": null,
   "id": "82ae4d9e-6bd4-4b96-86d6-df07a87a15d9",
   "metadata": {},
   "outputs": [],
   "source": [
    "from sklearn.model_selection import train_test_split\n",
    "\n",
    "X_train, X_test, Y_train, Y_test = train_test_split(X, Y, test_size=0.05, random_state=0)\n",
    "\n",
    "print(\"X_train:\", X_train.shape)\n",
    "print(\"X_test:\", X_test.shape)\n",
    "print(\"Y_train:\", Y_train.shape)\n",
    "print(\"Y_test:\", Y_test.shape)"
   ]
  },
  {
   "cell_type": "code",
   "execution_count": null,
   "id": "1099e908-9eeb-4281-8dff-90b3d2124fda",
   "metadata": {},
   "outputs": [],
   "source": [
    "from sklearn.preprocessing import StandardScaler\n",
    "\n",
    "scaler = StandardScaler()\n",
    "X_train_scaled = scaler.fit_transform(X_train)\n",
    "X_test_scaled = scaler.transform(X_test)\n",
    "\n",
    "print(\"Mean:\", X_train_scaled.mean(axis=0))\n",
    "print(\"Standard deviation:\", X_train_scaled.std(axis=0))"
   ]
  },
  {
   "cell_type": "code",
   "execution_count": null,
   "id": "f3944892-f8e0-4db0-952b-6d64dd031d6d",
   "metadata": {},
   "outputs": [],
   "source": [
    "log_model = LogisticRegression()\n",
    "\n",
    "from sklearn.impute import SimpleImputer\n",
    "imputer = SimpleImputer(strategy='mean')\n",
    "X_train_imputed = imputer.fit_transform(X_train)\n",
    "\n",
    "X_test_imputed = imputer.transform(X_test)\n",
    "\n",
    "log_model.fit(X_train_imputed, Y_train)\n"
   ]
  },
  {
   "cell_type": "code",
   "execution_count": 30,
   "id": "6e477f10-cb90-4906-9459-db8a2c2e18b0",
   "metadata": {},
   "outputs": [
    {
     "name": "stdout",
     "output_type": "stream",
     "text": [
      "Coefficients of the logistic regression model:\n",
      "[[ 1.97455572e-02 -8.74632464e-02 -2.03159363e-01 -2.07987135e-03\n",
      "  -5.74610152e-03  7.90631909e-03 -5.52078333e-02  3.88452586e-02\n",
      "  -9.23486023e-02 -2.19791786e-01 -7.56943102e-02 -2.34695729e-01\n",
      "  -5.13749760e-01]\n",
      " [-1.41204989e-02  3.80471264e-02  2.09592584e-02 -3.81806775e-03\n",
      "   1.17463175e-03 -2.95895876e-02  3.05410651e-02  7.46136386e-03\n",
      "   1.94336180e-02 -5.92004202e-02 -9.02530632e-03 -8.23271499e-04\n",
      "   8.00101412e-02]\n",
      " [-6.95818640e-03  1.92864915e-02  7.31593619e-02  4.69231986e-04\n",
      "   4.96854747e-03  1.58798922e-02 -4.90600821e-02 -1.68998265e-02\n",
      "   3.55650567e-02  9.24869058e-02  2.58148131e-02  6.38665332e-02\n",
      "   1.65349706e-01]\n",
      " [-2.24496955e-02  2.01931097e-02  8.88998212e-02  1.39388698e-02\n",
      "   5.01616346e-04  1.28397133e-02  3.59747604e-02 -1.84866728e-02\n",
      "   3.59723001e-02  1.13062954e-01  3.85663953e-02  1.11096197e-01\n",
      "   2.03713250e-01]\n",
      " [ 2.37828236e-02  9.93651866e-03  2.01409217e-02 -8.51016271e-03\n",
      "  -8.98694052e-04 -7.03633687e-03  3.77520899e-02 -1.09201232e-02\n",
      "   1.37762748e-03  7.34423464e-02  2.03384081e-02  6.05562706e-02\n",
      "   6.46766639e-02]]\n"
     ]
    }
   ],
   "source": [
    "coefficients = log_model.coef_\n",
    "\n",
    "print(\"Coefficients of the logistic regression model:\")\n",
    "print(coefficients)"
   ]
  },
  {
   "cell_type": "code",
   "execution_count": 32,
   "id": "009f2e9e-1aa2-411e-902c-e7dd96637013",
   "metadata": {},
   "outputs": [
    {
     "data": {
      "image/png": "[encoded data removed]",
      "text/plain": [
       "<Figure size 1000x600 with 1 Axes>"
      ]
     },
     "metadata": {},
     "output_type": "display_data"
    }
   ],
   "source": [
    "names = list(df.columns)\n",
    "names\n",
    "import matplotlib.pyplot as plt\n",
    "\n",
    "coefficients = log_model.coef_[0]\n",
    "feature_names = X_train.columns\n",
    "\n",
    "# Create a bar plot\n",
    "plt.figure(figsize=(10, 6))\n",
    "plt.barh(feature_names, coefficients)\n",
    "plt.xlabel('Coefficient Value')\n",
    "plt.ylabel('Feature')\n",
    "plt.title('Coefficients of Logistic Regression Model')\n",
    "plt.grid(axis='x')\n",
    "plt.show()\n"
   ]
  },
  {
   "cell_type": "code",
   "execution_count": 34,
   "id": "0563b99b-5623-40cd-a679-3713c18abfbb",
   "metadata": {},
   "outputs": [
    {
     "name": "stdout",
     "output_type": "stream",
     "text": [
      "Accuracy: 0.5\n"
     ]
    }
   ],
   "source": [
    "# Evaluate the model on the test set\n",
    "accuracy = log_model.score(X_test_imputed, Y_test)\n",
    "\n",
    "print(\"Accuracy:\", accuracy)\n"
   ]
  },
  {
   "cell_type": "markdown",
   "id": "92f9c063-f0bf-4d52-9b7a-5d5cee47bb81",
   "metadata": {},
   "source": [
    "confusion matrix, confusion tricia"
   ]
  },
  {
   "cell_type": "code",
   "execution_count": 40,
   "id": "22f61a33-ec84-44be-878b-911eaf3fe7f3",
   "metadata": {},
   "outputs": [
    {
     "data": {
      "image/png": "[encoded data removed]",
      "text/plain": [
       "<Figure size 800x600 with 1 Axes>"
      ]
     },
     "metadata": {},
     "output_type": "display_data"
    },
    {
     "name": "stdout",
     "output_type": "stream",
     "text": [
      "Classification Report:\n",
      "              precision    recall  f1-score   support\n",
      "\n",
      "           0       0.60      0.86      0.71         7\n",
      "           1       0.50      0.25      0.33         4\n",
      "           2       0.33      0.33      0.33         3\n",
      "           3       0.00      0.00      0.00         2\n",
      "\n",
      "    accuracy                           0.50        16\n",
      "   macro avg       0.36      0.36      0.34        16\n",
      "weighted avg       0.45      0.50      0.45        16\n",
      "\n"
     ]
    }
   ],
   "source": [
    "from sklearn.metrics import confusion_matrix, classification_report\n",
    "import seaborn as sns\n",
    "import matplotlib.pyplot as plt\n",
    "\n",
    "Y_pred = log_model.predict(X_test_imputed)\n",
    "\n",
    "conf_matrix = confusion_matrix(Y_test, Y_pred)\n",
    "\n",
    "plt.figure(figsize=(8, 6))\n",
    "sns.heatmap(conf_matrix, annot=True, fmt=\"d\", cbar=False)\n",
    "plt.xlabel('Predicted labels')\n",
    "plt.ylabel('True labels')\n",
    "plt.title('Confusion Matrix')\n",
    "plt.show()\n",
    "\n",
    "print(\"Classification Report:\")\n",
    "print(classification_report(Y_test, Y_pred))\n"
   ]
  },
  {
   "cell_type": "code",
   "execution_count": 42,
   "id": "10e09b68-44f3-4263-85d1-739be31b156c",
   "metadata": {},
   "outputs": [
    {
     "data": {
      "text/plain": [
       "array([[6, 0, 1, 0],\n",
       "       [2, 1, 0, 1],\n",
       "       [1, 1, 1, 0],\n",
       "       [1, 0, 1, 0]], dtype=int64)"
      ]
     },
     "execution_count": 42,
     "metadata": {},
     "output_type": "execute_result"
    }
   ],
   "source": [
    "confusion_matrix(Y_test,Y_pred)"
   ]
  },
  {
   "cell_type": "code",
   "execution_count": null,
   "id": "cf75c359-ef11-4406-bae0-b078495eaa80",
   "metadata": {},
   "outputs": [],
   "source": []
  }
 ],
 "metadata": {
  "kernelspec": {
   "display_name": "Python 3 (ipykernel)",
   "language": "python",
   "name": "python3"
  },
  "language_info": {
   "codemirror_mode": {
    "name": "ipython",
    "version": 3
   },
   "file_extension": ".py",
   "mimetype": "text/x-python",
   "name": "python",
   "nbconvert_exporter": "python",
   "pygments_lexer": "ipython3",
   "version": "3.11.5"
  }
 },
 "nbformat": 4,
 "nbformat_minor": 5
}
